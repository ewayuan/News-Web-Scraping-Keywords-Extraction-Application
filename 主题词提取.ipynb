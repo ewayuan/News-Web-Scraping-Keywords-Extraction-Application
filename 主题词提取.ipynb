{
 "cells": [
  {
   "cell_type": "code",
   "execution_count": 1,
   "metadata": {},
   "outputs": [],
   "source": [
    "import pandas as pd # 读入csv常用库\n",
    "# 读取从\"https://www.jiqizhixin.com/dailies\"爬取的所有2月20-2月27的文章的csv文件\n",
    "my_data = pd.read_csv(\"JiQiZhixin.csv\")"
   ]
  },
  {
   "cell_type": "code",
   "execution_count": 2,
   "metadata": {},
   "outputs": [
    {
     "data": {
      "text/html": [
       "<div>\n",
       "<style scoped>\n",
       "    .dataframe tbody tr th:only-of-type {\n",
       "        vertical-align: middle;\n",
       "    }\n",
       "\n",
       "    .dataframe tbody tr th {\n",
       "        vertical-align: top;\n",
       "    }\n",
       "\n",
       "    .dataframe thead th {\n",
       "        text-align: right;\n",
       "    }\n",
       "</style>\n",
       "<table border=\"1\" class=\"dataframe\">\n",
       "  <thead>\n",
       "    <tr style=\"text-align: right;\">\n",
       "      <th></th>\n",
       "      <th>date</th>\n",
       "      <th>title</th>\n",
       "      <th>contents</th>\n",
       "    </tr>\n",
       "  </thead>\n",
       "  <tbody>\n",
       "    <tr>\n",
       "      <th>0</th>\n",
       "      <td>2月20</td>\n",
       "      <td>全国首个人工智能创新发展试验区在北京成立</td>\n",
       "      <td>北京国家新一代人工智能创新发展试验区日前正式成立。这是我国首个国家新一代人工智能创新发展试验...</td>\n",
       "    </tr>\n",
       "    <tr>\n",
       "      <th>1</th>\n",
       "      <td>2月20</td>\n",
       "      <td>华为云将在新加坡拓展云平台和人工智能能力</td>\n",
       "      <td>华为云将在新加坡拓展云平台和人工智能能力。（彭博）</td>\n",
       "    </tr>\n",
       "    <tr>\n",
       "      <th>2</th>\n",
       "      <td>2月20</td>\n",
       "      <td>卵巢癌预后难判断？AI四倍精准预判仅需四项生理指标</td>\n",
       "      <td>2 月 20 日消息，帝国理工学院和墨尔本大学的研究人员开发出了一款新的 AI 系统 TEX...</td>\n",
       "    </tr>\n",
       "    <tr>\n",
       "      <th>3</th>\n",
       "      <td>2月20</td>\n",
       "      <td>优必选参与收购四川九牛足球俱乐部，CEO透露将在国内市场IPO               ...</td>\n",
       "      <td>2月20日机器之心消息，人工智能与服务机器人企业优必选科技宣布，联合城市足球集团及中国健腾体...</td>\n",
       "    </tr>\n",
       "    <tr>\n",
       "      <th>4</th>\n",
       "      <td>2月20</td>\n",
       "      <td>百度战略投资蝴蝶互动，布局AI小游戏新赛道</td>\n",
       "      <td>2 月 20 日消息，百度宣布战略投资 H5 和小游戏领军企业蝴蝶互动，双方将在小游戏的研发...</td>\n",
       "    </tr>\n",
       "  </tbody>\n",
       "</table>\n",
       "</div>"
      ],
      "text/plain": [
       "   date                                              title  \\\n",
       "0  2月20                               全国首个人工智能创新发展试验区在北京成立   \n",
       "1  2月20                               华为云将在新加坡拓展云平台和人工智能能力   \n",
       "2  2月20                          卵巢癌预后难判断？AI四倍精准预判仅需四项生理指标   \n",
       "3  2月20  优必选参与收购四川九牛足球俱乐部，CEO透露将在国内市场IPO               ...   \n",
       "4  2月20                              百度战略投资蝴蝶互动，布局AI小游戏新赛道   \n",
       "\n",
       "                                            contents  \n",
       "0  北京国家新一代人工智能创新发展试验区日前正式成立。这是我国首个国家新一代人工智能创新发展试验...  \n",
       "1                          华为云将在新加坡拓展云平台和人工智能能力。（彭博）  \n",
       "2  2 月 20 日消息，帝国理工学院和墨尔本大学的研究人员开发出了一款新的 AI 系统 TEX...  \n",
       "3  2月20日机器之心消息，人工智能与服务机器人企业优必选科技宣布，联合城市足球集团及中国健腾体...  \n",
       "4  2 月 20 日消息，百度宣布战略投资 H5 和小游戏领军企业蝴蝶互动，双方将在小游戏的研发...  "
      ]
     },
     "execution_count": 2,
     "metadata": {},
     "output_type": "execute_result"
    }
   ],
   "source": [
    "my_data.head()"
   ]
  },
  {
   "cell_type": "code",
   "execution_count": 3,
   "metadata": {},
   "outputs": [
    {
     "data": {
      "text/plain": [
       "(340, 3)"
      ]
     },
     "execution_count": 3,
     "metadata": {},
     "output_type": "execute_result"
    }
   ],
   "source": [
    "my_data.shape"
   ]
  },
  {
   "cell_type": "code",
   "execution_count": 4,
   "metadata": {},
   "outputs": [
    {
     "name": "stderr",
     "output_type": "stream",
     "text": [
      "Building prefix dict from the default dictionary ...\n",
      "Loading model from cache /var/folders/wn/12491ttd6rzf652jst7s6hpr0000gn/T/jieba.cache\n",
      "Loading model cost 0.873 seconds.\n",
      "Prefix dict has been built succesfully.\n"
     ]
    }
   ],
   "source": [
    "import jieba\n",
    "\n",
    "# 停用词处理\n",
    "def stopwordslist(filepath):  \n",
    "    stopwords = [line.strip() for line in open(filepath, 'r', encoding='utf-8').readlines()]  \n",
    "    return stopwords\n",
    "\n",
    "\n",
    "stopwords = stopwordslist('停用词表.txt')  # 加载停用词的路径  \n",
    "# cutted_contents存储所有文章分词的结果\n",
    "cutted_contents = []\n",
    "for content in my_data[\"contents\"]:\n",
    "    # 对于当前content 使用jieba.cut()分词处理\n",
    "    segs = jieba.cut(content)\n",
    "    # each_contents_cutted存储当前文章分词处理的结果\n",
    "    each_contents_cutted = []\n",
    "    for seg in segs:\n",
    "        final = ''\n",
    "        # 若当前得到的分词在停用此表中存在，则剔除当前词\n",
    "        if seg not in stopwords:\n",
    "            if seg != '\\t':  \n",
    "                final += seg\n",
    "                final += \" \"\n",
    "                #print(seg)\n",
    "        each_contents_cutted.append(final)\n",
    "    # 得到最后的不存在停用词的分词的结果cutted_contents\n",
    "    cutted_contents.append(each_contents_cutted)"
   ]
  },
  {
   "cell_type": "code",
   "execution_count": 5,
   "metadata": {},
   "outputs": [],
   "source": [
    "my_data[\"contents_cutted\"] = cutted_contents"
   ]
  },
  {
   "cell_type": "code",
   "execution_count": 6,
   "metadata": {},
   "outputs": [
    {
     "data": {
      "text/html": [
       "<div>\n",
       "<style scoped>\n",
       "    .dataframe tbody tr th:only-of-type {\n",
       "        vertical-align: middle;\n",
       "    }\n",
       "\n",
       "    .dataframe tbody tr th {\n",
       "        vertical-align: top;\n",
       "    }\n",
       "\n",
       "    .dataframe thead th {\n",
       "        text-align: right;\n",
       "    }\n",
       "</style>\n",
       "<table border=\"1\" class=\"dataframe\">\n",
       "  <thead>\n",
       "    <tr style=\"text-align: right;\">\n",
       "      <th></th>\n",
       "      <th>date</th>\n",
       "      <th>title</th>\n",
       "      <th>contents</th>\n",
       "      <th>contents_cutted</th>\n",
       "    </tr>\n",
       "  </thead>\n",
       "  <tbody>\n",
       "    <tr>\n",
       "      <th>0</th>\n",
       "      <td>2月20</td>\n",
       "      <td>全国首个人工智能创新发展试验区在北京成立</td>\n",
       "      <td>北京国家新一代人工智能创新发展试验区日前正式成立。这是我国首个国家新一代人工智能创新发展试验...</td>\n",
       "      <td>[北京 , 国家 , 新一代 , 人工智能 , 创新 , 发展 , 试验区 , 日前 , 正...</td>\n",
       "    </tr>\n",
       "    <tr>\n",
       "      <th>1</th>\n",
       "      <td>2月20</td>\n",
       "      <td>华为云将在新加坡拓展云平台和人工智能能力</td>\n",
       "      <td>华为云将在新加坡拓展云平台和人工智能能力。（彭博）</td>\n",
       "      <td>[华为 , 云 , , , 新加坡 , 拓展 , 云 , 平台 , , 人工智能 , 能力 ...</td>\n",
       "    </tr>\n",
       "    <tr>\n",
       "      <th>2</th>\n",
       "      <td>2月20</td>\n",
       "      <td>卵巢癌预后难判断？AI四倍精准预判仅需四项生理指标</td>\n",
       "      <td>2 月 20 日消息，帝国理工学院和墨尔本大学的研究人员开发出了一款新的 AI 系统 TEX...</td>\n",
       "      <td>[2 ,   , 月 ,   , 20 ,   , 日 , 消息 , ， , 帝国 , 理工...</td>\n",
       "    </tr>\n",
       "    <tr>\n",
       "      <th>3</th>\n",
       "      <td>2月20</td>\n",
       "      <td>优必选参与收购四川九牛足球俱乐部，CEO透露将在国内市场IPO               ...</td>\n",
       "      <td>2月20日机器之心消息，人工智能与服务机器人企业优必选科技宣布，联合城市足球集团及中国健腾体...</td>\n",
       "      <td>[2 , 月 , 20 , 日 , 机器 , 之心 , 消息 , ， , 人工智能 , , ...</td>\n",
       "    </tr>\n",
       "    <tr>\n",
       "      <th>4</th>\n",
       "      <td>2月20</td>\n",
       "      <td>百度战略投资蝴蝶互动，布局AI小游戏新赛道</td>\n",
       "      <td>2 月 20 日消息，百度宣布战略投资 H5 和小游戏领军企业蝴蝶互动，双方将在小游戏的研发...</td>\n",
       "      <td>[2 ,   , 月 ,   , 20 ,   , 日 , 消息 , ， , 百度 , , ...</td>\n",
       "    </tr>\n",
       "  </tbody>\n",
       "</table>\n",
       "</div>"
      ],
      "text/plain": [
       "   date                                              title  \\\n",
       "0  2月20                               全国首个人工智能创新发展试验区在北京成立   \n",
       "1  2月20                               华为云将在新加坡拓展云平台和人工智能能力   \n",
       "2  2月20                          卵巢癌预后难判断？AI四倍精准预判仅需四项生理指标   \n",
       "3  2月20  优必选参与收购四川九牛足球俱乐部，CEO透露将在国内市场IPO               ...   \n",
       "4  2月20                              百度战略投资蝴蝶互动，布局AI小游戏新赛道   \n",
       "\n",
       "                                            contents  \\\n",
       "0  北京国家新一代人工智能创新发展试验区日前正式成立。这是我国首个国家新一代人工智能创新发展试验...   \n",
       "1                          华为云将在新加坡拓展云平台和人工智能能力。（彭博）   \n",
       "2  2 月 20 日消息，帝国理工学院和墨尔本大学的研究人员开发出了一款新的 AI 系统 TEX...   \n",
       "3  2月20日机器之心消息，人工智能与服务机器人企业优必选科技宣布，联合城市足球集团及中国健腾体...   \n",
       "4  2 月 20 日消息，百度宣布战略投资 H5 和小游戏领军企业蝴蝶互动，双方将在小游戏的研发...   \n",
       "\n",
       "                                     contents_cutted  \n",
       "0  [北京 , 国家 , 新一代 , 人工智能 , 创新 , 发展 , 试验区 , 日前 , 正...  \n",
       "1  [华为 , 云 , , , 新加坡 , 拓展 , 云 , 平台 , , 人工智能 , 能力 ...  \n",
       "2  [2 ,   , 月 ,   , 20 ,   , 日 , 消息 , ， , 帝国 , 理工...  \n",
       "3  [2 , 月 , 20 , 日 , 机器 , 之心 , 消息 , ， , 人工智能 , , ...  \n",
       "4  [2 ,   , 月 ,   , 20 ,   , 日 , 消息 , ， , 百度 , , ...  "
      ]
     },
     "execution_count": 6,
     "metadata": {},
     "output_type": "execute_result"
    }
   ],
   "source": [
    "my_data.head()"
   ]
  },
  {
   "cell_type": "code",
   "execution_count": 7,
   "metadata": {},
   "outputs": [],
   "source": [
    "from jieba.analyse import *\n",
    "\n",
    "# 采用tf-idf / textrank方法对每一篇文章进行主题词提取 at most 5 topic keywords each article\n",
    "\n",
    "topic_keywords = []\n",
    "all_article_non_stop_words = []\n",
    "for content in my_data[\"contents_cutted\"]:\n",
    "    #print(content)\n",
    "    each_article_topic_keywords = []\n",
    "    each_article_non_stop_words = ' '.join(content)\n",
    "    all_article_non_stop_words.append(each_article_non_stop_words)\n",
    "    \n",
    "    #Method 1：使用jieba中tf-idf选取每篇文章前5名related topic keywords， 筛选\"ns\":地名， ”n\":名词， ”vn“:名动词, \"v\": 动词\n",
    "    \n",
    "    #for keyword, weight in jieba.analyse.extract_tags(each_article_non_stop_words, topK=5, withWeight=True, allowPOS=('ns', 'n', 'vn', 'v')):\n",
    "        #each_article_topic_keywords.append((keyword, weight))\n",
    "    #topic_keywords.append(each_article_topic_keywords)\n",
    "    \n",
    "    #Method 2：使用jieba中textrank选取每篇文章前5名related topic keywords, 筛选\"ns\":地名， ”n\":名词， ”vn“:名动词, \"v\": 动词\n",
    "    \n",
    "    for keyword, weight in jieba.analyse.textrank(each_article_non_stop_words, topK=5, withWeight=True, allowPOS=('ns', 'n', 'vn', 'v')):\n",
    "        each_article_topic_keywords.append((keyword, weight))\n",
    "    topic_keywords.append(each_article_topic_keywords)\n",
    "\n",
    "# store topic_keywords for each article and its weight (score)\n",
    "my_data[\"topic_keywords\"] = topic_keywords\n",
    "\n",
    "#print(temp_temp)"
   ]
  },
  {
   "cell_type": "code",
   "execution_count": 8,
   "metadata": {},
   "outputs": [
    {
     "data": {
      "text/plain": [
       "[('汽车', 1.0),\n",
       " ('电动', 0.6590256872426914),\n",
       " ('商议', 0.6552033888205308),\n",
       " ('合作', 0.6537100640355884),\n",
       " ('智能', 0.6534335888794285)]"
      ]
     },
     "execution_count": 8,
     "metadata": {},
     "output_type": "execute_result"
    }
   ],
   "source": [
    "my_data.topic_keywords[133]"
   ]
  },
  {
   "cell_type": "code",
   "execution_count": 9,
   "metadata": {},
   "outputs": [],
   "source": [
    "my_data.to_csv(\"JiQiZhiXin_with_topic_keywords.csv\",index=False ,encoding='utf_8_sig')"
   ]
  },
  {
   "cell_type": "code",
   "execution_count": 10,
   "metadata": {},
   "outputs": [],
   "source": [
    "from sklearn.feature_extraction.text import TfidfTransformer  \n",
    "from sklearn.feature_extraction.text import CountVectorizer  \n",
    "import numpy as np\n",
    "\n",
    "# 使用IF-IDF 提取一周内文章的前10名主题词 \n",
    "\n",
    "# 提取所有cutted_content word\n",
    "all_cutted_content = []\n",
    "for content in my_data[\"contents_cutted\"]:\n",
    "    for word in content:\n",
    "        all_cutted_content.append(word)\n",
    "result = ' '.join(all_cutted_content)\n",
    "\n",
    "result = [result]"
   ]
  },
  {
   "cell_type": "code",
   "execution_count": 11,
   "metadata": {},
   "outputs": [],
   "source": [
    "# 使用TF-IDF提取热门主题词\n",
    "vectorizer = CountVectorizer()\n",
    "transformer = TfidfTransformer()\n",
    "tfidf = transformer.fit_transform(vectorizer.fit_transform(result))\n",
    "    \n",
    "words = vectorizer.get_feature_names()  #所有文本的关键字\n",
    "weight = tfidf.toarray()[0]\n"
   ]
  },
  {
   "cell_type": "code",
   "execution_count": 12,
   "metadata": {},
   "outputs": [],
   "source": [
    "n = 20 # 前二十位 topic keywords\n",
    "# 排序\n",
    "top_keyword_for_week = []\n",
    "loc = np.argsort(weight)\n",
    "#print(loc)\n",
    "length = weight.size - 1\n",
    "for i in range(n):\n",
    "    top_keyword_for_week.append((words[loc[length-i]], weight[loc[length-i]]))\n"
   ]
  },
  {
   "cell_type": "code",
   "execution_count": 13,
   "metadata": {},
   "outputs": [
    {
     "name": "stdout",
     "output_type": "stream",
     "text": [
      "[('人工智能', 0.2565057579488209), ('公司', 0.2311223756518022), ('技术', 0.2137547982906841), ('智能', 0.17901964356844793), ('科技', 0.17634770858981438), ('ai', 0.1696678711432305), ('研究', 0.15630819625006276), ('机器人', 0.15497222876074598), ('5g', 0.15497222876074598), ('合作', 0.14962835880347888), ('提供', 0.14962835880347888), ('发展', 0.12157304152782658), ('医疗', 0.12157304152782658), ('系统', 0.1202370740385098), ('数据', 0.11622917157055948), ('全球', 0.11355723659192593), ('平台', 0.10821336663465883), ('研发', 0.10821336663465883), ('学习', 0.10821336663465883), ('服务', 0.10687739914534206)]\n"
     ]
    }
   ],
   "source": [
    "print(top_keyword_for_week)"
   ]
  },
  {
   "cell_type": "code",
   "execution_count": 14,
   "metadata": {},
   "outputs": [],
   "source": [
    "key_words = []\n",
    "scores = []\n",
    "for key_word, score in top_keyword_for_week:\n",
    "    #print(\"key_words: \" + key_word)\n",
    "    #print(\"score: \" + str(score))\n",
    "    key_words.append(key_word)\n",
    "    scores.append(score)\n"
   ]
  },
  {
   "cell_type": "code",
   "execution_count": 15,
   "metadata": {},
   "outputs": [],
   "source": [
    "# 将一周内的topic_keyword 转化为DataFrame\n",
    "topic_keyword_for_week = pd.DataFrame({\"topic_keywords\" : key_words, \"scores\" : scores})"
   ]
  },
  {
   "cell_type": "code",
   "execution_count": 16,
   "metadata": {},
   "outputs": [],
   "source": [
    "# 将一周内的topic_keyword 转化为csv\n",
    "topic_keyword_for_week.to_csv(\"JiQiZhiXin_with_topic_keywords_for_week_2_20_to_2_27.csv\",index=False ,encoding='utf_8_sig')"
   ]
  }
 ],
 "metadata": {
  "kernelspec": {
   "display_name": "Python 3",
   "language": "python",
   "name": "python3"
  },
  "language_info": {
   "codemirror_mode": {
    "name": "ipython",
    "version": 3
   },
   "file_extension": ".py",
   "mimetype": "text/x-python",
   "name": "python",
   "nbconvert_exporter": "python",
   "pygments_lexer": "ipython3",
   "version": "3.6.4"
  }
 },
 "nbformat": 4,
 "nbformat_minor": 2
}
